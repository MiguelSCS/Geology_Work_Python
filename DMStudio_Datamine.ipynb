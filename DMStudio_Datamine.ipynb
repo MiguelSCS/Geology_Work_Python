{
 "cells": [
  {
   "cell_type": "markdown",
   "id": "91f53672-638d-4b65-baf8-e3ac736a3025",
   "metadata": {},
   "source": [
    "### **Autor: MigueL Sergio Chique Sayre / Geólogo de Modelamiento**"
   ]
  },
  {
   "cell_type": "code",
   "execution_count": 1,
   "id": "ffb0e430-3388-42c5-a0d5-b0f0d14e3308",
   "metadata": {
    "tags": []
   },
   "outputs": [
    {
     "name": "stdout",
     "output_type": "stream",
     "text": [
      "pyrpa module not found, only available to SLR employees\n"
     ]
    }
   ],
   "source": [
    "import os\n",
    "import pandas as pd\n",
    "import numpy as np\n",
    "from dmstudio import dmfiles\n",
    "from dmstudio import dmcommands\n",
    "from dmstudio import special as sp\n",
    "from dmstudio import initialize\n",
    "from dmstudio import version\n",
    "\n",
    "cmd = dmcommands.init(version='StudioRM')\n",
    "dmf = dmfiles.init(version='StudioRM')"
   ]
  },
  {
   "cell_type": "code",
   "execution_count": 34,
   "id": "4ef8f750-7953-449d-b170-cfcf34066065",
   "metadata": {
    "tags": []
   },
   "outputs": [],
   "source": [
    "#print(dir(cmd))"
   ]
  },
  {
   "cell_type": "code",
   "execution_count": 43,
   "id": "b5d62862-2cc2-4f4e-a1ed-b0254e8f61d4",
   "metadata": {
    "tags": []
   },
   "outputs": [],
   "source": [
    "#help(cmd.promod)"
   ]
  },
  {
   "cell_type": "markdown",
   "id": "366ced36-7505-4942-ba58-a9b94a9a08b0",
   "metadata": {},
   "source": [
    "#### **Creación de multiples modelo de bloques con diferente soporte 10m, 20m y 40m**"
   ]
  },
  {
   "cell_type": "code",
   "execution_count": 44,
   "id": "d760892c-e510-469c-a017-a60405660dfd",
   "metadata": {
    "tags": []
   },
   "outputs": [
    {
     "data": {
      "text/html": [
       "<div>\n",
       "<style scoped>\n",
       "    .dataframe tbody tr th:only-of-type {\n",
       "        vertical-align: middle;\n",
       "    }\n",
       "\n",
       "    .dataframe tbody tr th {\n",
       "        vertical-align: top;\n",
       "    }\n",
       "\n",
       "    .dataframe thead th {\n",
       "        text-align: right;\n",
       "    }\n",
       "</style>\n",
       "<table border=\"1\" class=\"dataframe\">\n",
       "  <thead>\n",
       "    <tr style=\"text-align: right;\">\n",
       "      <th></th>\n",
       "      <th>Proto</th>\n",
       "      <th>bk</th>\n",
       "      <th>bk_op</th>\n",
       "    </tr>\n",
       "  </thead>\n",
       "  <tbody>\n",
       "    <tr>\n",
       "      <th>0</th>\n",
       "      <td>proto_10_10_12</td>\n",
       "      <td>ore_10</td>\n",
       "      <td>ore_10_op</td>\n",
       "    </tr>\n",
       "    <tr>\n",
       "      <th>1</th>\n",
       "      <td>proto_20_20_12</td>\n",
       "      <td>ore_20</td>\n",
       "      <td>ore_20_op</td>\n",
       "    </tr>\n",
       "    <tr>\n",
       "      <th>2</th>\n",
       "      <td>proto_40_40_12</td>\n",
       "      <td>ore_40</td>\n",
       "      <td>ore_40_op</td>\n",
       "    </tr>\n",
       "  </tbody>\n",
       "</table>\n",
       "</div>"
      ],
      "text/plain": [
       "            Proto      bk      bk_op\n",
       "0  proto_10_10_12  ore_10  ore_10_op\n",
       "1  proto_20_20_12  ore_20  ore_20_op\n",
       "2  proto_40_40_12  ore_40  ore_40_op"
      ]
     },
     "execution_count": 44,
     "metadata": {},
     "output_type": "execute_result"
    }
   ],
   "source": [
    "Proto = [{'Proto': 'proto_10_10_12', 'bk': 'ore_10', 'bk_op': 'ore_10_op'},\n",
    "         {'Proto': 'proto_20_20_12', 'bk': 'ore_20', 'bk_op': 'ore_20_op'},\n",
    "         {'Proto': 'proto_40_40_12', 'bk': 'ore_40', 'bk_op': 'ore_40_op'}]\n",
    "df_proto = pd.DataFrame(Proto)\n",
    "df_proto.head()"
   ]
  },
  {
   "cell_type": "code",
   "execution_count": 45,
   "id": "2585d780-b36b-454d-9e15-2f7e8edf3ede",
   "metadata": {
    "tags": []
   },
   "outputs": [],
   "source": [
    "for i in Proto:\n",
    "    proto = i['Proto']\n",
    "    bk = i['bk']\n",
    "    bk_op = i['bk_op']\n",
    "    \n",
    "    cmd.trifil(proto_i=proto, wiretr_i='oretr', wirept_i='orept', perimin_i='optional', model_o=bk, zone_f='ROCK_E', \n",
    "               modltype_p=1, zone_p='optional', maxdip_p=0, splits_p=0, plane_p='XY', xsubcell_p=3, ysubcell_p=3, zsubcell_p=3, \n",
    "               pvalue_p='optional', resol_p=0, checkrot_p=0, autosort_p=0, retrieval='optional')\n",
    "    \n",
    "    cmd.promod(in_i=bk, out_o=bk_op, remnants_o='optional', key1_f='optional', key2_f='optional', key3_f='optional', key4_f='optional',\n",
    "               key5_f='optional', key6_f='optional', key7_f='optional', key8_f='optional', key9_f='optional', key10_f='optional', \n",
    "               density_f='optional', density_p=1, xincmin_p='optional', yincmin_p='optional', zincmin_p='optional', overlap_p=0, \n",
    "               optimise_p=2, tol_p=0.001, accuracy_p=0.001, print_p=0, retrieval='optional')"
   ]
  },
  {
   "cell_type": "markdown",
   "id": "2728a365-2ad3-413e-97a8-8063756e07b7",
   "metadata": {},
   "source": [
    "#### **Creación y compositación de sondajes 3D. Se crean también múltiples compositaciones de 2m, 4m y 6m**"
   ]
  },
  {
   "cell_type": "code",
   "execution_count": 18,
   "id": "38bd9aec-2bfc-4a06-b62d-a6eea2bbc404",
   "metadata": {
    "tags": []
   },
   "outputs": [
    {
     "data": {
      "text/html": [
       "<div>\n",
       "<style scoped>\n",
       "    .dataframe tbody tr th:only-of-type {\n",
       "        vertical-align: middle;\n",
       "    }\n",
       "\n",
       "    .dataframe tbody tr th {\n",
       "        vertical-align: top;\n",
       "    }\n",
       "\n",
       "    .dataframe thead th {\n",
       "        text-align: right;\n",
       "    }\n",
       "</style>\n",
       "<table border=\"1\" class=\"dataframe\">\n",
       "  <thead>\n",
       "    <tr style=\"text-align: right;\">\n",
       "      <th></th>\n",
       "      <th>Output</th>\n",
       "      <th>interval</th>\n",
       "    </tr>\n",
       "  </thead>\n",
       "  <tbody>\n",
       "    <tr>\n",
       "      <th>0</th>\n",
       "      <td>ddh_comp2</td>\n",
       "      <td>2</td>\n",
       "    </tr>\n",
       "    <tr>\n",
       "      <th>1</th>\n",
       "      <td>ddh_comp4</td>\n",
       "      <td>4</td>\n",
       "    </tr>\n",
       "    <tr>\n",
       "      <th>2</th>\n",
       "      <td>ddh_comp6</td>\n",
       "      <td>6</td>\n",
       "    </tr>\n",
       "  </tbody>\n",
       "</table>\n",
       "</div>"
      ],
      "text/plain": [
       "      Output interval\n",
       "0  ddh_comp2        2\n",
       "1  ddh_comp4        4\n",
       "2  ddh_comp6        6"
      ]
     },
     "execution_count": 18,
     "metadata": {},
     "output_type": "execute_result"
    }
   ],
   "source": [
    "ddh_comp = [{'Output': 'ddh_comp2', 'interval': '2'},{'Output': 'ddh_comp4', 'interval': '4'},{'Output': 'ddh_comp6', 'interval': '6'}]\n",
    "df_ddh_comp = pd.DataFrame(ddh_comp)\n",
    "df_ddh_comp.head()"
   ]
  },
  {
   "cell_type": "code",
   "execution_count": 16,
   "id": "441a1a85-0819-458e-9bb5-ee6d032af149",
   "metadata": {
    "tags": []
   },
   "outputs": [
    {
     "name": "stdout",
     "output_type": "stream",
     "text": [
      "holes3d  &collar=collar &survey=survey &sample1=ddh_model  &out=ddh_proj *bhid=BHID *xcollar=XCOLLAR *ycollar=YCOLLAR *zcollar=ZCOLLAR *from=FROM *to=TO *at=AT *brg=BRG *dip=DIP @survsmth=1 @endpoint=0 @dipmeth=1 @print=0\n"
     ]
    }
   ],
   "source": [
    "cmd.holes3d(collar_i='collar', survey_i='survey', samples_i=['ddh_model'], out_o='ddh_proj', holesmry_o='optional', errors_o='optional', \n",
    "            bhid_f='BHID', xcollar_f='XCOLLAR', ycollar_f='YCOLLAR', zcollar_f='ZCOLLAR', from_f='FROM', to_f='TO', at_f='AT', \n",
    "            brg_f='BRG', dip_f='DIP', survsmth_p=1, endpoint_p=0, dipmeth_p=1, print_p=0, retrieval='optional')\n",
    "\n",
    "for i in ddh_comp:\n",
    "    output = i['Output']\n",
    "    interval = i['interval']\n",
    "    \n",
    "    cmd.compdh(in_i='ddh_proj', out_o=output, bhid_f='BHID', from_f='FROM', to_f='TO', density_f='optional', coreloss_f='optional', \n",
    "       corerec_f='optional', zone_f='ROCK_E', interval_p=interval, mingap_p='0.01', maxgap_p=0, mincomp_p='optional', loss_p='optional', \n",
    "       start_p=0, mode_p=0, print_p=0, retrieval='optional')"
   ]
  },
  {
   "cell_type": "markdown",
   "id": "8c87d293-0695-42b1-8f89-9562c1d83582",
   "metadata": {
    "tags": []
   },
   "source": [
    "#### **Estimaciones múltiples diferenciados por el soporte (tamaño de bloque) para evaluar la varianza de estimación**"
   ]
  },
  {
   "cell_type": "code",
   "execution_count": 46,
   "id": "a3ffea0d-b703-466e-8fee-8ef74141fc08",
   "metadata": {
    "tags": []
   },
   "outputs": [
    {
     "data": {
      "text/html": [
       "<div>\n",
       "<style scoped>\n",
       "    .dataframe tbody tr th:only-of-type {\n",
       "        vertical-align: middle;\n",
       "    }\n",
       "\n",
       "    .dataframe tbody tr th {\n",
       "        vertical-align: top;\n",
       "    }\n",
       "\n",
       "    .dataframe thead th {\n",
       "        text-align: right;\n",
       "    }\n",
       "</style>\n",
       "<table border=\"1\" class=\"dataframe\">\n",
       "  <thead>\n",
       "    <tr style=\"text-align: right;\">\n",
       "      <th></th>\n",
       "      <th>bk</th>\n",
       "      <th>estima</th>\n",
       "      <th>estima_sc</th>\n",
       "    </tr>\n",
       "  </thead>\n",
       "  <tbody>\n",
       "    <tr>\n",
       "      <th>0</th>\n",
       "      <td>ore_40_op</td>\n",
       "      <td>estima_40</td>\n",
       "      <td>estima_sc_40</td>\n",
       "    </tr>\n",
       "    <tr>\n",
       "      <th>1</th>\n",
       "      <td>ore_20_op</td>\n",
       "      <td>estima_20</td>\n",
       "      <td>estima_sc_20</td>\n",
       "    </tr>\n",
       "    <tr>\n",
       "      <th>2</th>\n",
       "      <td>ore_10_op</td>\n",
       "      <td>estima_10</td>\n",
       "      <td>estima_sc_10</td>\n",
       "    </tr>\n",
       "  </tbody>\n",
       "</table>\n",
       "</div>"
      ],
      "text/plain": [
       "          bk     estima     estima_sc\n",
       "0  ore_40_op  estima_40  estima_sc_40\n",
       "1  ore_20_op  estima_20  estima_sc_20\n",
       "2  ore_10_op  estima_10  estima_sc_10"
      ]
     },
     "execution_count": 46,
     "metadata": {},
     "output_type": "execute_result"
    }
   ],
   "source": [
    "estim_par = [{'bk': 'ore_40_op', 'estima': 'estima_40', 'estima_sc': 'estima_sc_40'},\n",
    "             {'bk': 'ore_20_op', 'estima': 'estima_20', 'estima_sc': 'estima_sc_20'},\n",
    "             {'bk': 'ore_10_op', 'estima': 'estima_10', 'estima_sc': 'estima_sc_10'}]\n",
    "df_estima = pd.DataFrame(estim_par)\n",
    "df_estima.head()"
   ]
  },
  {
   "cell_type": "code",
   "execution_count": 48,
   "id": "9d310cce-80f3-44c8-bc35-c5190d546adf",
   "metadata": {
    "tags": []
   },
   "outputs": [],
   "source": [
    "for i in estim_par:\n",
    "    bk = i['bk']\n",
    "    estima = i['estima']\n",
    "    estima_sc = i['estima_sc']\n",
    "    \n",
    "    cmd.estima(proto_i=bk, in_i='ddh_comp2', srcparm_i='sv_param1', estparm_i='estima_param', vmodparm_i='var_model', \n",
    "               string_i='optional', model_o=estima, sampout_o=estima_sc, x_f='X', y_f='Y', z_f='Z', zone1_f_f='ROCK_E', \n",
    "               zone2_f_f='optional', key_f='BHID', length_f_f='optional', dens_f_f='optional', section_f='optional', \n",
    "               boundary_f='optional', wstag_f='optional', bstag_f='optional', tag_f='optional', discmeth_p=1, xpoints_p=3, \n",
    "               ypoints_p=3, zpoints_p=3, xdspace_p='1', ydspace_p='1', zdspace_p='1', parent_p=1, dyankr_p=1, mindisc_p=1, \n",
    "               copyval_p=0, fvaltype_p=1, fstep_p='1', xmin_p='493980', xmax_p='495580', ymin_p='8319600', ymax_p='8320800', \n",
    "               zmin_p='260', zmax_p='800', xsubcell_p=1, ysubcell_p=1, zsubcell_p=1, allwgts_p=0, linkmode_p=3, ucsamode_p=2, \n",
    "               ucsbmode_p=3, ucscmode_p=2, plane_p=1, hangid_p='optional', footid_p='optional', tolrnc_p=0, ucsalimt_p=0, \n",
    "               orgtag_p='-', print_p=0, retrieval='optional')"
   ]
  },
  {
   "cell_type": "code",
   "execution_count": 36,
   "id": "7b074e1c-203b-496e-80a2-637327b9332f",
   "metadata": {
    "tags": []
   },
   "outputs": [],
   "source": [
    "#cmd.output(in_i='estima3_hc_edit', csv_p=1, nodd_p=0, dplace_p=-1, implicit_p=0, csv_o='estima3_hc_edit.csv')\n",
    "#cmd.bhcount(modelin_i='estima9_feproj', sampin_i='estima9_sc_feproj', modelout_o='estima9_hc_feproj', key_f='BHID', parent_p=1, retrieval='optional')\n",
    "#cmd.xrun(macro_i='5_ESTIMATE_SB_CAMP_EDIT.mac', macro_name_p='1')"
   ]
  },
  {
   "cell_type": "code",
   "execution_count": null,
   "id": "0f7b478a-f535-448d-bdb7-a676d37cfa9c",
   "metadata": {},
   "outputs": [],
   "source": []
  }
 ],
 "metadata": {
  "kernelspec": {
   "display_name": "Python 3 (ipykernel)",
   "language": "python",
   "name": "python3"
  },
  "language_info": {
   "codemirror_mode": {
    "name": "ipython",
    "version": 3
   },
   "file_extension": ".py",
   "mimetype": "text/x-python",
   "name": "python",
   "nbconvert_exporter": "python",
   "pygments_lexer": "ipython3",
   "version": "3.8.15"
  }
 },
 "nbformat": 4,
 "nbformat_minor": 5
}
