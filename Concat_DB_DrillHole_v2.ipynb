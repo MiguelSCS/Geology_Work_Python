{
 "cells": [
  {
   "cell_type": "code",
   "execution_count": 1,
   "id": "acute-delhi",
   "metadata": {},
   "outputs": [],
   "source": [
    "#Author: Miguel S. Chique Sayre / Resource and Modeling Geologist\n",
    "\n",
    "import pyodbc\n",
    "import pandas as pd\n",
    "import os\n",
    "\n",
    "import warnings\n",
    "warnings.simplefilter(\"ignore\", UserWarning)"
   ]
  },
  {
   "cell_type": "code",
   "execution_count": 2,
   "id": "6af95cc5-201e-4e7f-a837-a8ed3289d6a2",
   "metadata": {},
   "outputs": [
    {
     "data": {
      "text/plain": [
       "['23DD14-10-3.xlsx',\n",
       " '23DD14-11-3.xlsx',\n",
       " '23DD14-3.xlsx',\n",
       " '23DD14-8.xlsx',\n",
       " '23DD34E-01-3.xlsx',\n",
       " '23DDM2-11-3.xlsx',\n",
       " '23DDM2-14_LOGUEO_GEOLOGICO_SHK_2022_GUO_30072022-1-3.xlsx',\n",
       " '23DDM2-15_LOGUEO_GEOLOGICO_SHK_2022_GUO_30072022-3.xlsx',\n",
       " '23DDM2-2-3.xlsx',\n",
       " '23DDM3-5-3.xlsx',\n",
       " '23TA-DD109-3.xlsx']"
      ]
     },
     "execution_count": 2,
     "metadata": {},
     "output_type": "execute_result"
    }
   ],
   "source": [
    "ruta = \"C:/Users/PROPIETARIO/Py_MigueSCS/Py_Join_SQLDB_GVMapper/Daily_Report/Logueo_Excel\" #Ruta donde se encontrarán los excel de logueo\n",
    "archivos = os.listdir(ruta)\n",
    "archivos"
   ]
  },
  {
   "cell_type": "code",
   "execution_count": 3,
   "id": "22843b6b-1109-48cf-84c8-b6fc685158e9",
   "metadata": {},
   "outputs": [],
   "source": [
    "#Concatenación directa de los excel\n",
    "\n",
    "Lit_InExe=pd.concat([pd.read_excel(os.path.join(ruta, fname), sheet_name='GvM_Lit') \n",
    "                    for fname in os.listdir(ruta)], ignore_index=True)\n",
    "\n",
    "Alt_InExe=pd.concat([pd.read_excel(os.path.join(ruta, fname), sheet_name='GvM_Alt')\n",
    "                    for fname in os.listdir(ruta)], ignore_index=True)\n",
    "\n",
    "Min_InExe=pd.concat([pd.read_excel(os.path.join(ruta, fname), sheet_name='GvM_Min')\n",
    "                    for fname in os.listdir(ruta)], ignore_index=True)\n",
    "\n",
    "Est_InExe=pd.concat([pd.read_excel(os.path.join(ruta, fname), sheet_name='GvM_Est')\n",
    "                    for fname in os.listdir(ruta)], ignore_index=True)"
   ]
  },
  {
   "cell_type": "code",
   "execution_count": 4,
   "id": "f59ef541-f6c0-4369-a927-ac94b4e48fd2",
   "metadata": {},
   "outputs": [
    {
     "name": "stdout",
     "output_type": "stream",
     "text": [
      "['23DD14-10' '23DD14-11' '23DD14-3' '23DD14-8' '23DD34E-01' '23DDM2-11'\n",
      " '23DDM2-14' '23DDM2-15' '23DDM2-2' '23DDM3-5' '23TA-DD109']\n",
      "['23DD14-10' '23DD14-11' '23DD14-3' '23DD14-8' '23DD34E-01' '23DDM2-11'\n",
      " '23DDM2-14' '23DDM2-15' '23DDM2-2' '23DDM3-5' '23TA-DD109']\n",
      "['23DD14-10' '23DD14-11' '23DD14-3' '23DD14-8' '23DD34E-01' '23DDM2-11'\n",
      " '23DDM2-14' '23DDM2-15' '23DDM2-2' '23DDM3-5' '23TA-DD109']\n",
      "['23DD14-10' '23DD14-11' '23DD14-3' '23DD14-8' '23DD34E-01' '23DDM2-11'\n",
      " '23DDM2-14' '23DDM2-15' '23DDM2-2' '23DDM3-5' '23TA-DD109']\n"
     ]
    }
   ],
   "source": [
    "#Verificación opcional de los sondajes\n",
    "\n",
    "print(Lit_InExe['Hole_ID'].unique())\n",
    "print(Alt_InExe['Hole_ID'].unique())\n",
    "print(Min_InExe['Hole_ID'].unique())\n",
    "print(Est_InExe['Hole_ID'].unique())"
   ]
  },
  {
   "cell_type": "code",
   "execution_count": 5,
   "id": "sexual-triumph",
   "metadata": {
    "scrolled": true
   },
   "outputs": [],
   "source": [
    "#Filtros y limpieza de datos\n",
    "\n",
    "Lit_InExe= Lit_InExe.dropna(subset=[\"Depth_To\"])\n",
    "Alt_InExe= Alt_InExe.dropna(subset=[\"Depth_To\"])\n",
    "Min_InExe= Min_InExe.dropna(subset=[\"Depth_To\"])\n",
    "Est_InExe= Est_InExe.dropna(subset=[\"Depth_To\"])\n",
    "\n",
    "Alt_InExe= Alt_InExe[(Alt_InExe[\"Depth_To\"] >0)]\n",
    "Min_InExe= Min_InExe[(Min_InExe[\"Depth_To\"] >0)] \n",
    "\n",
    "Lit_InExe['Type_Rock']=Lit_InExe['Type_Rock'].replace(['Volcanic','Subvolcanic','Volcanoclastic','Igneuos','Sediment','Metamorphic'],\n",
    "                                                      ['Volcanic Rocks','Subvolcanic Rocks','Volcanoclastic Rocks','Igneuos Rocks',\n",
    "                                                       'Sediment Rocks','Metamorphic Rocks'])\n",
    "Min=Min_InExe\n",
    "\n",
    "Min['Lenght_m']=Min['Depth_To'] - Min['Depth_From']\n",
    "\n",
    "Min=Min[['Hole_ID','Depth_From','Depth_To','Lenght_m','Min_Zone','Min1','Min1_Est1','Min1_pct','Min2','Min2_Est1','Min2_pct',\n",
    "         'Min3','Min3_Est1','Min3_pct','Min4','Min4_Est1','Min4_pct','Min5','Min5_Est1','Min5_pct']]"
   ]
  },
  {
   "cell_type": "code",
   "execution_count": 6,
   "id": "7589dcfa-ab12-4048-bfc3-9e43277cfeaa",
   "metadata": {},
   "outputs": [],
   "source": [
    "#Código para ordenar la información \n",
    "\n",
    "Lit_InExe = Lit_InExe.sort_values(['Hole_ID', 'Depth_From'])\n",
    "Alt_InExe = Alt_InExe.sort_values(['Hole_ID', 'Depth_From'])\n",
    "Min_InExe = Min_InExe.sort_values(['Hole_ID', 'Depth_From'])\n",
    "Est_InExe = Est_InExe.sort_values(['Hole_ID', 'Depth_From'])\n",
    "Min = Min.sort_values(['Hole_ID', 'Depth_From'])"
   ]
  },
  {
   "cell_type": "code",
   "execution_count": 7,
   "id": "specific-organizer",
   "metadata": {},
   "outputs": [],
   "source": [
    "writer = pd.ExcelWriter('InExe_DB_Compilado.xlsx')\n",
    "\n",
    "Lit_InExe.to_excel(writer, sheet_name=\"InExe_Lit\", index=False)\n",
    "Alt_InExe.to_excel(writer, sheet_name=\"InExe_Alt\", index=False)\n",
    "Min_InExe.to_excel(writer, sheet_name=\"InExe_Min\", index=False)\n",
    "Est_InExe.to_excel(writer, sheet_name=\"InExe_Est\", index=False)\n",
    "Min.to_excel(writer, sheet_name=\"Min\", index=False)\n",
    "\n",
    "writer.save()\n",
    "writer.close()\n",
    "\n",
    "Lit_InExe.to_csv(\"InExe_Lit.csv\", sep=\";\" ,index=False)\n",
    "Alt_InExe.to_csv(\"InExe_Alt.csv\", sep=\";\" ,index=False)\n",
    "Min_InExe.to_csv(\"InExe_Min.csv\", sep=\";\" ,index=False)\n",
    "Est_InExe.to_csv(\"InExe_Est.csv\", sep=\";\" ,index=False)"
   ]
  },
  {
   "cell_type": "code",
   "execution_count": null,
   "id": "ebb559ba",
   "metadata": {},
   "outputs": [],
   "source": []
  }
 ],
 "metadata": {
  "kernelspec": {
   "display_name": "Python 3 (ipykernel)",
   "language": "python",
   "name": "python3"
  },
  "language_info": {
   "codemirror_mode": {
    "name": "ipython",
    "version": 3
   },
   "file_extension": ".py",
   "mimetype": "text/x-python",
   "name": "python",
   "nbconvert_exporter": "python",
   "pygments_lexer": "ipython3",
   "version": "3.9.12"
  }
 },
 "nbformat": 4,
 "nbformat_minor": 5
}
