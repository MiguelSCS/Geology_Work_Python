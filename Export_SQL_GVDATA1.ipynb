{
 "cells": [
  {
   "cell_type": "code",
   "execution_count": 1,
   "id": "e451b8f6",
   "metadata": {},
   "outputs": [],
   "source": [
    "#Author: Miguel S. Chique Sayre / Resource and Modeling Geologist\n",
    "\n",
    "import pyodbc\n",
    "import pandas as pd\n",
    "import warnings\n",
    "warnings.filterwarnings('ignore')\n",
    "warnings.simplefilter('ignore')"
   ]
  },
  {
   "cell_type": "code",
   "execution_count": 2,
   "id": "8ee3fab2",
   "metadata": {},
   "outputs": [],
   "source": [
    "#SQL SERVER Database\n",
    "conn_sql = pyodbc.connect('Driver={SQL Server};'\n",
    "                      'Server=DESKTOP-VMEQK3V\\SQLEXPRESS;'\n",
    "                      'Database=GVDATA1;'\n",
    "                      'Trusted_Connection=yes;')\n",
    "\n",
    "GvM_Collar = pd.read_sql_query('SELECT * FROM DATSSONDAJES', conn_sql)\n",
    "GvM_Survey = pd.read_sql_query('SELECT * FROM DATSSURVEY', conn_sql)\n",
    "\n",
    "GvM_Lit = pd.read_sql_query('SELECT * FROM GvM_Lit', conn_sql)\n",
    "GvM_Lit[\"Lenght_m\"]= round(GvM_Lit[\"Lenght_m\"],2)\n",
    "\n",
    "GvM_Alt = pd.read_sql_query('SELECT * FROM GvM_Alt', conn_sql)\n",
    "GvM_Alt[\"Lenght_m\"]= round(GvM_Alt[\"Lenght_m\"],2)\n",
    "\n",
    "GvM_Min = pd.read_sql_query('SELECT * FROM GvM_Min', conn_sql)\n",
    "GvM_Min[\"Lenght_m\"]= round(GvM_Min[\"Lenght_m\"],2)\n",
    "GvM_Min=GvM_Min.sort_values(['Hole_ID','Depth_From'])\n",
    "\n",
    "GvM_Est = pd.read_sql_query('SELECT * FROM GvM_Est', conn_sql)\n",
    "GvM_Est[\"Lenght_m\"]= round(GvM_Est[\"Lenght_m\"],2)"
   ]
  },
  {
   "cell_type": "code",
   "execution_count": 3,
   "id": "5a12fb17",
   "metadata": {},
   "outputs": [],
   "source": [
    "#Configuración de campos del Collar y Survey para exportación\n",
    "\n",
    "GvM_Collar_Filter=GvM_Collar[[\"IDSONDAJE\",\"ESTE\",\"NORTE\",\"COTACOLLAR\",\"LARGO\",\"OBSERVACIONES\",\"FECHA_INICIO\",\n",
    "                             \"FECHA_TERMINO\",\"SECTOR\"]]\n",
    "GvM_Collar_Filter=GvM_Collar_Filter.rename(columns={'IDSONDAJE':'Hole_ID','ESTE':'East','NORTE':'North','COTACOLLAR':'Elevation'\n",
    "                                                    ,'LARGO':'Depth_Total','OBSERVACIONES':'Estate',\n",
    "                                                    'FECHA_INICIO':'Date_Start','FECHA_TERMINO':'Date_End','SECTOR':'Zone'})\n",
    "\n",
    "GvM_Survey_Filter=GvM_Survey[[\"IDSONDAJE\",\"PROFUNDIDAD\",\"AZIMUTH\",\"INCLINACION\"]]\n",
    "GvM_Survey_Filter=GvM_Survey_Filter.rename(columns={'IDSONDAJE':'Hole_ID','PROFUNDIDAD':'Depth','AZIMUTH':'Azimuth'\n",
    "                                                    ,'INCLINACION':'Dip'})\n",
    "\n",
    "Collar_GvM_Aux = GvM_Collar_Filter[[\"Hole_ID\",\"Zone\"]]\n",
    "GvM_Survey_Filter = pd.merge(GvM_Survey_Filter, Collar_GvM_Aux, on='Hole_ID')"
   ]
  },
  {
   "cell_type": "code",
   "execution_count": 4,
   "id": "8aae67ce",
   "metadata": {},
   "outputs": [],
   "source": [
    "#Guardado del compilado general\n",
    "\n",
    "writer = pd.ExcelWriter('GvM_DB_Compilado.xlsx')\n",
    "\n",
    "GvM_Collar_Filter.to_excel(writer, sheet_name=\"Collar\", index=False)\n",
    "GvM_Survey_Filter.to_excel(writer, sheet_name=\"Survey\", index=False)\n",
    "GvM_Lit.to_excel(writer, sheet_name=\"Lit\", index=False)\n",
    "GvM_Alt.to_excel(writer, sheet_name=\"Alt\", index=False)\n",
    "GvM_Min.to_excel(writer, sheet_name=\"Min\", index=False)\n",
    "GvM_Est.to_excel(writer, sheet_name=\"Est\", index=False)\n",
    "\n",
    "writer.save()\n",
    "writer.close()"
   ]
  },
  {
   "cell_type": "code",
   "execution_count": null,
   "id": "dc13a805-1d3a-461a-958d-54da4f57954f",
   "metadata": {},
   "outputs": [],
   "source": []
  }
 ],
 "metadata": {
  "kernelspec": {
   "display_name": "Python 3 (ipykernel)",
   "language": "python",
   "name": "python3"
  },
  "language_info": {
   "codemirror_mode": {
    "name": "ipython",
    "version": 3
   },
   "file_extension": ".py",
   "mimetype": "text/x-python",
   "name": "python",
   "nbconvert_exporter": "python",
   "pygments_lexer": "ipython3",
   "version": "3.9.12"
  }
 },
 "nbformat": 4,
 "nbformat_minor": 5
}
