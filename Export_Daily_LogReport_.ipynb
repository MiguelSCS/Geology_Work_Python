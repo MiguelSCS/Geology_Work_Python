{
 "cells": [
  {
   "cell_type": "code",
   "execution_count": 1,
   "id": "e451b8f6",
   "metadata": {},
   "outputs": [],
   "source": [
    "#Author: Miguel S. Chique Sayre / Resource and Modeling Geologist\n",
    "\n",
    "import pyodbc\n",
    "import pandas as pd\n",
    "import os\n",
    "\n",
    "import warnings\n",
    "warnings.simplefilter(\"ignore\", UserWarning)"
   ]
  },
  {
   "cell_type": "code",
   "execution_count": 2,
   "id": "1931abed-feb5-48af-a4b0-ac474056bbeb",
   "metadata": {},
   "outputs": [],
   "source": [
    "#Código auxiliar para obtener la lista de logueos en excel\n",
    "\n",
    "ruta = \"C:/Users/PROPIETARIO/Py_MigueSCS/Py_Join_SQLDB_GVMapper/Daily_Report/Logueo_Excel\"\n",
    "Lit_InExe=pd.concat([pd.read_excel(os.path.join(ruta, fname), sheet_name='GvM_Lit')\n",
    "                    for fname in os.listdir(ruta)], ignore_index=True)"
   ]
  },
  {
   "cell_type": "code",
   "execution_count": 3,
   "id": "8ee3fab2",
   "metadata": {},
   "outputs": [],
   "source": [
    "#SQL SERVER Database\n",
    "conn_sql = pyodbc.connect('Driver={SQL Server};'\n",
    "                      'Server=DESKTOP-VMEQK3V\\SQLEXPRESS;'\n",
    "                      'Database=GVDATA1;'\n",
    "                      'Trusted_Connection=yes;')\n",
    "\n",
    "GvM_Collar = pd.read_sql_query('SELECT * FROM DATSSONDAJES', conn_sql)\n",
    "GvM_Survey = pd.read_sql_query('SELECT * FROM DATSSURVEY', conn_sql)\n",
    "\n",
    "GvM_Lit = pd.read_sql_query('SELECT * FROM GvM_Lit', conn_sql)\n",
    "GvM_Lit[\"Lenght_m\"]= round(GvM_Lit[\"Lenght_m\"],2)\n",
    "\n",
    "GvM_Alt = pd.read_sql_query('SELECT * FROM GvM_Alt', conn_sql)\n",
    "GvM_Alt[\"Lenght_m\"]= round(GvM_Alt[\"Lenght_m\"],2)\n",
    "\n",
    "GvM_Min = pd.read_sql_query('SELECT * FROM GvM_Min', conn_sql)\n",
    "GvM_Min[\"Lenght_m\"]= round(GvM_Min[\"Lenght_m\"],2)\n",
    "GvM_Min=GvM_Min.sort_values(['Hole_ID','Depth_From'])\n",
    "\n",
    "GvM_Est = pd.read_sql_query('SELECT * FROM GvM_Est', conn_sql)\n",
    "GvM_Est[\"Lenght_m\"]= round(GvM_Est[\"Lenght_m\"],2)"
   ]
  },
  {
   "cell_type": "code",
   "execution_count": 4,
   "id": "5a12fb17",
   "metadata": {},
   "outputs": [],
   "source": [
    "#Configuración de campos del Collar y Survey para exportación\n",
    "\n",
    "GvM_Collar_Filter=GvM_Collar[[\"IDSONDAJE\",\"ESTE\",\"NORTE\",\"COTACOLLAR\",\"LARGO\",\"OBSERVACIONES\",\"FECHA_INICIO\",\n",
    "                             \"FECHA_TERMINO\",\"SECTOR\"]]\n",
    "GvM_Collar_Filter=GvM_Collar_Filter.rename(columns={'IDSONDAJE':'Hole_ID','ESTE':'East','NORTE':'North','COTACOLLAR':'Elevation'\n",
    "                                                    ,'LARGO':'Depth_Total','OBSERVACIONES':'Estate',\n",
    "                                                    'FECHA_INICIO':'Date_Start','FECHA_TERMINO':'Date_End','SECTOR':'Zone'})\n",
    "\n",
    "GvM_Survey_Filter=GvM_Survey[[\"IDSONDAJE\",\"PROFUNDIDAD\",\"AZIMUTH\",\"INCLINACION\"]]\n",
    "GvM_Survey_Filter=GvM_Survey_Filter.rename(columns={'IDSONDAJE':'Hole_ID','PROFUNDIDAD':'Depth','AZIMUTH':'Azimuth'\n",
    "                                                    ,'INCLINACION':'Dip'})\n",
    "\n",
    "Collar_GvM_Aux = GvM_Collar_Filter[[\"Hole_ID\",\"Zone\"]]\n",
    "GvM_Survey_Filter = pd.merge(GvM_Survey_Filter, Collar_GvM_Aux, on='Hole_ID')"
   ]
  },
  {
   "cell_type": "code",
   "execution_count": 5,
   "id": "b1f4cb91-f7cc-40c4-a764-f86dec2a9d17",
   "metadata": {},
   "outputs": [
    {
     "data": {
      "text/plain": [
       "['23DD14-10',\n",
       " '23DD14-11',\n",
       " '23DD14-3',\n",
       " '23DD14-8',\n",
       " '23DD34E-01',\n",
       " '23DDM2-11',\n",
       " '23DDM2-14',\n",
       " '23DDM2-15',\n",
       " '23DDM2-2',\n",
       " '23DDM3-5',\n",
       " '23TA-DD109',\n",
       " '23DDM2-9',\n",
       " '23TA-DD98',\n",
       " '23DDM3-4',\n",
       " '23DDM3-6']"
      ]
     },
     "execution_count": 5,
     "metadata": {},
     "output_type": "execute_result"
    }
   ],
   "source": [
    "#Lista de sondajes a exportar\n",
    "\n",
    "sondajes_excel = list(Lit_InExe['Hole_ID'].unique())\n",
    "\n",
    "sondajes_tablet = ['23DDM2-9','23TA-DD98','23DDM3-4','23DDM3-6'] #Esta lista llenarla manualmente, son los sondajes no logueados con excel\n",
    "\n",
    "sondajes_export = sondajes_excel + sondajes_tablet\n",
    "sondajes_export"
   ]
  },
  {
   "cell_type": "code",
   "execution_count": 6,
   "id": "5d3385b6",
   "metadata": {},
   "outputs": [],
   "source": [
    "#Filtrado de los sondajes de reporte diario\n",
    "\n",
    "Lit = GvM_Lit[GvM_Lit.Hole_ID.isin(sondajes_export)]\n",
    "Alt = GvM_Alt[GvM_Alt.Hole_ID.isin(sondajes_export)]\n",
    "Min = GvM_Min[GvM_Min.Hole_ID.isin(sondajes_export)]\n",
    "Est = GvM_Est[GvM_Est.Hole_ID.isin(sondajes_export)]\n",
    "\n",
    "Lit = Lit.sort_values(['Hole_ID', 'Depth_From'])\n",
    "Alt = Alt.sort_values(['Hole_ID', 'Depth_From'])\n",
    "Min = Min.sort_values(['Hole_ID', 'Depth_From'])\n",
    "Est = Est.sort_values(['Hole_ID', 'Depth_From'])"
   ]
  },
  {
   "cell_type": "code",
   "execution_count": 7,
   "id": "0c43a4b6-96ad-433d-a28f-0d6f009912c0",
   "metadata": {},
   "outputs": [
    {
     "name": "stdout",
     "output_type": "stream",
     "text": [
      "['23DD14-10' '23DD14-11' '23DD14-3' '23DD14-8' '23DD34E-01' '23DDM2-11'\n",
      " '23DDM2-14' '23DDM2-15' '23DDM2-2' '23DDM2-9' '23DDM3-4' '23DDM3-5'\n",
      " '23DDM3-6' '23TA-DD109' '23TA-DD98']\n",
      "['23DD14-10' '23DD14-11' '23DD14-3' '23DD14-8' '23DD34E-01' '23DDM2-11'\n",
      " '23DDM2-14' '23DDM2-15' '23DDM2-2' '23DDM2-9' '23DDM3-4' '23DDM3-5'\n",
      " '23DDM3-6' '23TA-DD109' '23TA-DD98']\n",
      "['23DD14-10' '23DD14-11' '23DD14-3' '23DD14-8' '23DD34E-01' '23DDM2-11'\n",
      " '23DDM2-14' '23DDM2-15' '23DDM2-2' '23DDM2-9' '23DDM3-4' '23DDM3-5'\n",
      " '23DDM3-6' '23TA-DD109' '23TA-DD98']\n",
      "['23DD14-10' '23DD14-11' '23DD14-3' '23DD34E-01' '23DDM2-11' '23DDM2-14'\n",
      " '23DDM2-15' '23DDM2-2' '23DDM2-9' '23DDM3-4' '23DDM3-5' '23DDM3-6'\n",
      " '23TA-DD109' '23TA-DD98']\n"
     ]
    }
   ],
   "source": [
    "#Verificación opcional de los sondajes\n",
    "\n",
    "print(Lit['Hole_ID'].unique())\n",
    "print(Alt['Hole_ID'].unique())\n",
    "print(Min['Hole_ID'].unique())\n",
    "print(Est['Hole_ID'].unique())"
   ]
  },
  {
   "cell_type": "code",
   "execution_count": 8,
   "id": "adee039b",
   "metadata": {},
   "outputs": [],
   "source": [
    "#Guardado del compilado\n",
    "\n",
    "writer = pd.ExcelWriter('Export_Advance.xlsx')\n",
    "\n",
    "Lit.to_excel(writer, sheet_name=\"Lit\", index=False)\n",
    "Alt.to_excel(writer, sheet_name=\"Alt\", index=False)\n",
    "Min.to_excel(writer, sheet_name=\"Min\", index=False)\n",
    "Est.to_excel(writer, sheet_name=\"Est\", index=False)\n",
    "\n",
    "writer.save()\n",
    "writer.close()"
   ]
  },
  {
   "cell_type": "code",
   "execution_count": null,
   "id": "be8a133d-3888-420a-b9d6-ba3c42fdd16d",
   "metadata": {},
   "outputs": [],
   "source": []
  }
 ],
 "metadata": {
  "kernelspec": {
   "display_name": "Python 3 (ipykernel)",
   "language": "python",
   "name": "python3"
  },
  "language_info": {
   "codemirror_mode": {
    "name": "ipython",
    "version": 3
   },
   "file_extension": ".py",
   "mimetype": "text/x-python",
   "name": "python",
   "nbconvert_exporter": "python",
   "pygments_lexer": "ipython3",
   "version": "3.9.12"
  }
 },
 "nbformat": 4,
 "nbformat_minor": 5
}
